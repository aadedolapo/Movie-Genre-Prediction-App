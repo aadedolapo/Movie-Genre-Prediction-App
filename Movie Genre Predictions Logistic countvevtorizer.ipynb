{
 "cells": [
  {
   "cell_type": "code",
   "execution_count": 1,
   "metadata": {
    "colab": {},
    "colab_type": "code",
    "id": "qOO_PawwF2tI"
   },
   "outputs": [],
   "source": [
    "import pandas as pd\n",
    "import numpy as np\n",
    "import nltk\n",
    "from nltk.corpus import stopwords\n",
    "from nltk.stem.snowball import SnowballStemmer\n",
    "import matplotlib.pyplot as plt \n",
    "import seaborn as sns\n",
    "import time\n",
    "import re\n",
    "\n",
    "# Convert text to features\n",
    "from sklearn.preprocessing import MultiLabelBinarizer\n",
    "from sklearn.feature_extraction.text import CountVectorizer\n",
    "# Split data to train and test\n",
    "from sklearn.model_selection import train_test_split\n",
    "# Classification model\n",
    "from sklearn.tree import DecisionTreeClassifier\n",
    "from sklearn.linear_model import LogisticRegression\n",
    "# Binary Relevance\n",
    "from sklearn.multiclass import OneVsRestClassifier\n",
    "# Performance metric\n",
    "from sklearn.metrics import f1_score, accuracy_score, hamming_loss\n",
    "\n",
    "import warnings\n",
    "warnings.filterwarnings(\"ignore\")\n",
    "%matplotlib inline"
   ]
  },
  {
   "cell_type": "markdown",
   "metadata": {
    "colab_type": "text",
    "id": "kQ5GUrYJk3Ae"
   },
   "source": [
    "### Load Data"
   ]
  },
  {
   "cell_type": "code",
   "execution_count": 2,
   "metadata": {
    "colab": {},
    "colab_type": "code",
    "id": "yxCPm8R6F2tY"
   },
   "outputs": [
    {
     "data": {
      "text/html": [
       "<div>\n",
       "<style scoped>\n",
       "    .dataframe tbody tr th:only-of-type {\n",
       "        vertical-align: middle;\n",
       "    }\n",
       "\n",
       "    .dataframe tbody tr th {\n",
       "        vertical-align: top;\n",
       "    }\n",
       "\n",
       "    .dataframe thead th {\n",
       "        text-align: right;\n",
       "    }\n",
       "</style>\n",
       "<table border=\"1\" class=\"dataframe\">\n",
       "  <thead>\n",
       "    <tr style=\"text-align: right;\">\n",
       "      <th></th>\n",
       "      <th>id</th>\n",
       "      <th>imdb_id</th>\n",
       "      <th>popularity</th>\n",
       "      <th>budget</th>\n",
       "      <th>revenue</th>\n",
       "      <th>original_title</th>\n",
       "      <th>cast</th>\n",
       "      <th>homepage</th>\n",
       "      <th>director</th>\n",
       "      <th>tagline</th>\n",
       "      <th>...</th>\n",
       "      <th>overview</th>\n",
       "      <th>runtime</th>\n",
       "      <th>genres</th>\n",
       "      <th>production_companies</th>\n",
       "      <th>release_date</th>\n",
       "      <th>vote_count</th>\n",
       "      <th>vote_average</th>\n",
       "      <th>release_year</th>\n",
       "      <th>budget_adj</th>\n",
       "      <th>revenue_adj</th>\n",
       "    </tr>\n",
       "  </thead>\n",
       "  <tbody>\n",
       "    <tr>\n",
       "      <td>0</td>\n",
       "      <td>135397</td>\n",
       "      <td>tt0369610</td>\n",
       "      <td>32.985763</td>\n",
       "      <td>150000000</td>\n",
       "      <td>1513528810</td>\n",
       "      <td>Jurassic World</td>\n",
       "      <td>Chris Pratt|Bryce Dallas Howard|Irrfan Khan|Vi...</td>\n",
       "      <td>http://www.jurassicworld.com/</td>\n",
       "      <td>Colin Trevorrow</td>\n",
       "      <td>The park is open.</td>\n",
       "      <td>...</td>\n",
       "      <td>Twenty-two years after the events of Jurassic ...</td>\n",
       "      <td>124</td>\n",
       "      <td>Action|Adventure|Science Fiction|Thriller</td>\n",
       "      <td>Universal Studios|Amblin Entertainment|Legenda...</td>\n",
       "      <td>6/9/15</td>\n",
       "      <td>5562</td>\n",
       "      <td>6.5</td>\n",
       "      <td>2015</td>\n",
       "      <td>1.379999e+08</td>\n",
       "      <td>1.392446e+09</td>\n",
       "    </tr>\n",
       "    <tr>\n",
       "      <td>1</td>\n",
       "      <td>76341</td>\n",
       "      <td>tt1392190</td>\n",
       "      <td>28.419936</td>\n",
       "      <td>150000000</td>\n",
       "      <td>378436354</td>\n",
       "      <td>Mad Max: Fury Road</td>\n",
       "      <td>Tom Hardy|Charlize Theron|Hugh Keays-Byrne|Nic...</td>\n",
       "      <td>http://www.madmaxmovie.com/</td>\n",
       "      <td>George Miller</td>\n",
       "      <td>What a Lovely Day.</td>\n",
       "      <td>...</td>\n",
       "      <td>An apocalyptic story set in the furthest reach...</td>\n",
       "      <td>120</td>\n",
       "      <td>Action|Adventure|Science Fiction|Thriller</td>\n",
       "      <td>Village Roadshow Pictures|Kennedy Miller Produ...</td>\n",
       "      <td>5/13/15</td>\n",
       "      <td>6185</td>\n",
       "      <td>7.1</td>\n",
       "      <td>2015</td>\n",
       "      <td>1.379999e+08</td>\n",
       "      <td>3.481613e+08</td>\n",
       "    </tr>\n",
       "  </tbody>\n",
       "</table>\n",
       "<p>2 rows × 21 columns</p>\n",
       "</div>"
      ],
      "text/plain": [
       "       id    imdb_id  popularity     budget     revenue      original_title  \\\n",
       "0  135397  tt0369610   32.985763  150000000  1513528810      Jurassic World   \n",
       "1   76341  tt1392190   28.419936  150000000   378436354  Mad Max: Fury Road   \n",
       "\n",
       "                                                cast  \\\n",
       "0  Chris Pratt|Bryce Dallas Howard|Irrfan Khan|Vi...   \n",
       "1  Tom Hardy|Charlize Theron|Hugh Keays-Byrne|Nic...   \n",
       "\n",
       "                        homepage         director             tagline  ...  \\\n",
       "0  http://www.jurassicworld.com/  Colin Trevorrow   The park is open.  ...   \n",
       "1    http://www.madmaxmovie.com/    George Miller  What a Lovely Day.  ...   \n",
       "\n",
       "                                            overview runtime  \\\n",
       "0  Twenty-two years after the events of Jurassic ...     124   \n",
       "1  An apocalyptic story set in the furthest reach...     120   \n",
       "\n",
       "                                      genres  \\\n",
       "0  Action|Adventure|Science Fiction|Thriller   \n",
       "1  Action|Adventure|Science Fiction|Thriller   \n",
       "\n",
       "                                production_companies release_date vote_count  \\\n",
       "0  Universal Studios|Amblin Entertainment|Legenda...       6/9/15       5562   \n",
       "1  Village Roadshow Pictures|Kennedy Miller Produ...      5/13/15       6185   \n",
       "\n",
       "   vote_average  release_year    budget_adj   revenue_adj  \n",
       "0           6.5          2015  1.379999e+08  1.392446e+09  \n",
       "1           7.1          2015  1.379999e+08  3.481613e+08  \n",
       "\n",
       "[2 rows x 21 columns]"
      ]
     },
     "execution_count": 2,
     "metadata": {},
     "output_type": "execute_result"
    }
   ],
   "source": [
    "movies = pd.read_csv(\"tmdb-movies.csv\")\n",
    "movies.head(2)"
   ]
  },
  {
   "cell_type": "code",
   "execution_count": 3,
   "metadata": {
    "colab": {},
    "colab_type": "code",
    "id": "QDjWvm8DF2uG"
   },
   "outputs": [
    {
     "name": "stdout",
     "output_type": "stream",
     "text": [
      "<class 'pandas.core.frame.DataFrame'>\n",
      "RangeIndex: 10866 entries, 0 to 10865\n",
      "Data columns (total 21 columns):\n",
      "id                      10866 non-null int64\n",
      "imdb_id                 10856 non-null object\n",
      "popularity              10866 non-null float64\n",
      "budget                  10866 non-null int64\n",
      "revenue                 10866 non-null int64\n",
      "original_title          10866 non-null object\n",
      "cast                    10790 non-null object\n",
      "homepage                2936 non-null object\n",
      "director                10822 non-null object\n",
      "tagline                 8042 non-null object\n",
      "keywords                9373 non-null object\n",
      "overview                10862 non-null object\n",
      "runtime                 10866 non-null int64\n",
      "genres                  10843 non-null object\n",
      "production_companies    9836 non-null object\n",
      "release_date            10866 non-null object\n",
      "vote_count              10866 non-null int64\n",
      "vote_average            10866 non-null float64\n",
      "release_year            10866 non-null int64\n",
      "budget_adj              10866 non-null float64\n",
      "revenue_adj             10866 non-null float64\n",
      "dtypes: float64(4), int64(6), object(11)\n",
      "memory usage: 1.7+ MB\n"
     ]
    }
   ],
   "source": [
    "movies.info()"
   ]
  },
  {
   "cell_type": "markdown",
   "metadata": {
    "colab_type": "text",
    "id": "R1e3qDq-7n4A"
   },
   "source": [
    "#### For this project, we would only need the id, original_title, overview and genre columns."
   ]
  },
  {
   "cell_type": "code",
   "execution_count": 4,
   "metadata": {},
   "outputs": [
    {
     "data": {
      "text/html": [
       "<div>\n",
       "<style scoped>\n",
       "    .dataframe tbody tr th:only-of-type {\n",
       "        vertical-align: middle;\n",
       "    }\n",
       "\n",
       "    .dataframe tbody tr th {\n",
       "        vertical-align: top;\n",
       "    }\n",
       "\n",
       "    .dataframe thead th {\n",
       "        text-align: right;\n",
       "    }\n",
       "</style>\n",
       "<table border=\"1\" class=\"dataframe\">\n",
       "  <thead>\n",
       "    <tr style=\"text-align: right;\">\n",
       "      <th></th>\n",
       "      <th>id</th>\n",
       "      <th>original_title</th>\n",
       "      <th>overview</th>\n",
       "      <th>genres</th>\n",
       "    </tr>\n",
       "  </thead>\n",
       "  <tbody>\n",
       "    <tr>\n",
       "      <td>0</td>\n",
       "      <td>135397</td>\n",
       "      <td>Jurassic World</td>\n",
       "      <td>Twenty-two years after the events of Jurassic ...</td>\n",
       "      <td>Action|Adventure|Science Fiction|Thriller</td>\n",
       "    </tr>\n",
       "    <tr>\n",
       "      <td>1</td>\n",
       "      <td>76341</td>\n",
       "      <td>Mad Max: Fury Road</td>\n",
       "      <td>An apocalyptic story set in the furthest reach...</td>\n",
       "      <td>Action|Adventure|Science Fiction|Thriller</td>\n",
       "    </tr>\n",
       "  </tbody>\n",
       "</table>\n",
       "</div>"
      ],
      "text/plain": [
       "       id      original_title  \\\n",
       "0  135397      Jurassic World   \n",
       "1   76341  Mad Max: Fury Road   \n",
       "\n",
       "                                            overview  \\\n",
       "0  Twenty-two years after the events of Jurassic ...   \n",
       "1  An apocalyptic story set in the furthest reach...   \n",
       "\n",
       "                                      genres  \n",
       "0  Action|Adventure|Science Fiction|Thriller  \n",
       "1  Action|Adventure|Science Fiction|Thriller  "
      ]
     },
     "execution_count": 4,
     "metadata": {},
     "output_type": "execute_result"
    }
   ],
   "source": [
    "movies = movies[[\"id\", \"original_title\", \"overview\", \"genres\"]]\n",
    "movies.head(2)"
   ]
  },
  {
   "cell_type": "code",
   "execution_count": 5,
   "metadata": {},
   "outputs": [
    {
     "data": {
      "text/plain": [
       "'Twenty-two years after the events of Jurassic Park, Isla Nublar now features a fully functioning dinosaur theme park, Jurassic World, as originally envisioned by John Hammond.'"
      ]
     },
     "execution_count": 5,
     "metadata": {},
     "output_type": "execute_result"
    }
   ],
   "source": [
    "movies[\"overview\"][0]"
   ]
  },
  {
   "cell_type": "code",
   "execution_count": 6,
   "metadata": {},
   "outputs": [
    {
     "data": {
      "text/plain": [
       "id                 0\n",
       "original_title     0\n",
       "overview           4\n",
       "genres            23\n",
       "dtype: int64"
      ]
     },
     "execution_count": 6,
     "metadata": {},
     "output_type": "execute_result"
    }
   ],
   "source": [
    "# Check for missing values from new dataframe\n",
    "movies.isnull().sum()"
   ]
  },
  {
   "cell_type": "code",
   "execution_count": 7,
   "metadata": {},
   "outputs": [
    {
     "data": {
      "text/plain": [
       "(10866, 4)"
      ]
     },
     "execution_count": 7,
     "metadata": {},
     "output_type": "execute_result"
    }
   ],
   "source": [
    "movies.shape"
   ]
  },
  {
   "cell_type": "code",
   "execution_count": 8,
   "metadata": {},
   "outputs": [],
   "source": [
    "# Droping all rows with missing values\n",
    "movies.dropna(axis=\"rows\", inplace=True)"
   ]
  },
  {
   "cell_type": "code",
   "execution_count": 9,
   "metadata": {},
   "outputs": [
    {
     "data": {
      "text/plain": [
       "(10840, 4)"
      ]
     },
     "execution_count": 9,
     "metadata": {},
     "output_type": "execute_result"
    }
   ],
   "source": [
    "movies.shape"
   ]
  },
  {
   "cell_type": "markdown",
   "metadata": {
    "colab_type": "text",
    "id": "FHRQwt76E1hb"
   },
   "source": [
    "### Data Exploration and Pre-processing"
   ]
  },
  {
   "cell_type": "code",
   "execution_count": 10,
   "metadata": {},
   "outputs": [
    {
     "data": {
      "text/plain": [
       "'Action|Adventure|Science Fiction|Thriller'"
      ]
     },
     "execution_count": 10,
     "metadata": {},
     "output_type": "execute_result"
    }
   ],
   "source": [
    "movies[\"genres\"][0]"
   ]
  },
  {
   "cell_type": "markdown",
   "metadata": {
    "colab_type": "text",
    "id": "XjWHQ9M_9skB"
   },
   "source": [
    "### However, the genres are in strings notation and are seperated by pipe symbol(\"|\"). It will be easier to work with it if we can somehow convert into python list. Let's try to do it with the first sample."
   ]
  },
  {
   "cell_type": "code",
   "execution_count": 11,
   "metadata": {},
   "outputs": [],
   "source": [
    "def to_list(x):\n",
    "    return x.split(\"|\")"
   ]
  },
  {
   "cell_type": "code",
   "execution_count": 12,
   "metadata": {},
   "outputs": [
    {
     "name": "stdout",
     "output_type": "stream",
     "text": [
      "0.09799909591674805\n"
     ]
    }
   ],
   "source": [
    "st = time.time()\n",
    "movies[\"genres\"] = movies[\"genres\"].apply(to_list)\n",
    "et = time.time()\n",
    "stop = et - st\n",
    "print(stop)"
   ]
  },
  {
   "cell_type": "code",
   "execution_count": 13,
   "metadata": {},
   "outputs": [
    {
     "data": {
      "text/plain": [
       "[]"
      ]
     },
     "execution_count": 13,
     "metadata": {},
     "output_type": "execute_result"
    }
   ],
   "source": [
    "# Checking for genres list with empty tags\n",
    "[i for i in movies[\"genres\"] if len(i) == 0]"
   ]
  },
  {
   "cell_type": "markdown",
   "metadata": {
    "colab_type": "text",
    "id": "sMlSVUPhENt4"
   },
   "source": [
    "### All movies have at least one genre tags. Let's check out the dataframe once again. "
   ]
  },
  {
   "cell_type": "code",
   "execution_count": 14,
   "metadata": {
    "colab": {
     "base_uri": "https://localhost:8080/",
     "height": 571
    },
    "colab_type": "code",
    "id": "1DYW05vvF2vU",
    "outputId": "c9337396-c00d-4049-d87a-fdd51e24fad2"
   },
   "outputs": [
    {
     "data": {
      "text/html": [
       "<div>\n",
       "<style scoped>\n",
       "    .dataframe tbody tr th:only-of-type {\n",
       "        vertical-align: middle;\n",
       "    }\n",
       "\n",
       "    .dataframe tbody tr th {\n",
       "        vertical-align: top;\n",
       "    }\n",
       "\n",
       "    .dataframe thead th {\n",
       "        text-align: right;\n",
       "    }\n",
       "</style>\n",
       "<table border=\"1\" class=\"dataframe\">\n",
       "  <thead>\n",
       "    <tr style=\"text-align: right;\">\n",
       "      <th></th>\n",
       "      <th>id</th>\n",
       "      <th>original_title</th>\n",
       "      <th>overview</th>\n",
       "      <th>genres</th>\n",
       "    </tr>\n",
       "  </thead>\n",
       "  <tbody>\n",
       "    <tr>\n",
       "      <td>7953</td>\n",
       "      <td>15259</td>\n",
       "      <td>Breakin'</td>\n",
       "      <td>A struggling young jazz dancer (Lucinda Dickey...</td>\n",
       "      <td>[Music]</td>\n",
       "    </tr>\n",
       "    <tr>\n",
       "      <td>5999</td>\n",
       "      <td>201132</td>\n",
       "      <td>Antarctica: A Year on Ice</td>\n",
       "      <td>Filling the giant screen with stunning time-la...</td>\n",
       "      <td>[Drama, Adventure, Documentary]</td>\n",
       "    </tr>\n",
       "  </tbody>\n",
       "</table>\n",
       "</div>"
      ],
      "text/plain": [
       "          id             original_title  \\\n",
       "7953   15259                   Breakin'   \n",
       "5999  201132  Antarctica: A Year on Ice   \n",
       "\n",
       "                                               overview  \\\n",
       "7953  A struggling young jazz dancer (Lucinda Dickey...   \n",
       "5999  Filling the giant screen with stunning time-la...   \n",
       "\n",
       "                               genres  \n",
       "7953                          [Music]  \n",
       "5999  [Drama, Adventure, Documentary]  "
      ]
     },
     "execution_count": 14,
     "metadata": {},
     "output_type": "execute_result"
    }
   ],
   "source": [
    "movies.sample(2)"
   ]
  },
  {
   "cell_type": "code",
   "execution_count": 15,
   "metadata": {},
   "outputs": [
    {
     "name": "stdout",
     "output_type": "stream",
     "text": [
      "{'History', 'Family', 'Animation', 'Thriller', 'War', 'Action', 'Crime', 'Mystery', 'Fantasy', 'Comedy', 'Foreign', 'Romance', 'Horror', 'Documentary', 'Drama', 'Music', 'TV Movie', 'Science Fiction', 'Adventure', 'Western'}\n"
     ]
    }
   ],
   "source": [
    "#To check the different movie genres covered in this dataset:\n",
    "all_genres = [each for x in movies[\"genres\"] for each in x]\n",
    "print(set(all_genres))"
   ]
  },
  {
   "cell_type": "markdown",
   "metadata": {
    "colab_type": "text",
    "id": "MKlo00OIGtvU"
   },
   "source": [
    "### There are 20 unique genre tags in our dataset. So, let's plot out what these tags are. Instead of going through the process of  creating a dataframe then using **value_counts()** to get the count of each genre. We will use **FreqDist( )** of the nltk library to create a dictionary of genres and their occurence count across the dataset."
   ]
  },
  {
   "cell_type": "code",
   "execution_count": 16,
   "metadata": {
    "colab": {},
    "colab_type": "code",
    "id": "MXikclL-F2v1"
   },
   "outputs": [
    {
     "data": {
      "text/plain": [
       "FreqDist({'Drama': 4761, 'Comedy': 3792, 'Thriller': 2908, 'Action': 2385, 'Romance': 1711, 'Horror': 1637, 'Adventure': 1471, 'Crime': 1355, 'Family': 1231, 'Science Fiction': 1229, ...})"
      ]
     },
     "execution_count": 16,
     "metadata": {},
     "output_type": "execute_result"
    }
   ],
   "source": [
    "all_genres = nltk.FreqDist(all_genres)\n",
    "all_genres"
   ]
  },
  {
   "cell_type": "code",
   "execution_count": 17,
   "metadata": {},
   "outputs": [],
   "source": [
    "all_genres_df = pd.DataFrame({\"Genre\": list(all_genres.keys()), \"Count\": list(all_genres.values())})"
   ]
  },
  {
   "cell_type": "code",
   "execution_count": 18,
   "metadata": {
    "colab": {
     "base_uri": "https://localhost:8080/",
     "height": 881
    },
    "colab_type": "code",
    "id": "ljJeSX0hF2v7",
    "outputId": "7efd77da-fde7-4ea3-f82b-a7dd495518a3"
   },
   "outputs": [
    {
     "data": {
      "image/png": "[encoded data removed]",
      "text/plain": [
       "<Figure size 864x1080 with 1 Axes>"
      ]
     },
     "metadata": {
      "needs_background": "light"
     },
     "output_type": "display_data"
    }
   ],
   "source": [
    "g = all_genres_df.nlargest(columns=\"Count\",n=20) \n",
    "plt.figure(figsize=(12,15))\n",
    "ax = sns.barplot(data=g, x= \"Count\", y = \"Genre\")\n",
    "ax.set(xlabel=\"Count\")\n",
    "plt.title(\"Top 20 Genre Tags\", fontsize=16)\n",
    "plt.show()"
   ]
  },
  {
   "cell_type": "markdown",
   "metadata": {
    "colab_type": "raw",
    "id": "DBkRJgDCF2wG"
   },
   "source": [
    "### As expected, the most frequent tags are \"Drama\", \"Comedy\", \"Thriller\", and \"Action\"."
   ]
  },
  {
   "cell_type": "markdown",
   "metadata": {
    "colab_type": "text",
    "id": "eCLjE_3VMBJr"
   },
   "source": [
    "### Next we will clean our overview column."
   ]
  },
  {
   "cell_type": "code",
   "execution_count": 19,
   "metadata": {},
   "outputs": [],
   "source": [
    "# Function for text cleaning\n",
    "def clean_text(text):\n",
    "    # Remove backslash-apostrophe\n",
    "    text = re.sub(\"\\'\", \"\", text)\n",
    "    # Remove everything alphabets\n",
    "    text = re.sub(\"[^a-zA-Z]\",\" \",text)\n",
    "    # Remove whitespaces\n",
    "    text = ' '.join(text.split())\n",
    "    # Convert text to lowercase\n",
    "    text = text.lower()\n",
    "    # Remove stop words\n",
    "    stop_words = set(stopwords.words('english'))\n",
    "    # There are still words that are so common like, one, two, first, second, three, go, gets and so on. \n",
    "    # Updating the stopwords\n",
    "    stop_words.update(['one','two','first','second','three','four','five','six'\n",
    "                       'seven','eight','nine','ten','go','gets','may','also','across',\n",
    "                       'among','beside','however','yet','within','last','well'])\n",
    "    stemmer = SnowballStemmer(\"english\")\n",
    "    cleaned_text = ' '.join([stemmer.stem(w) for w in text.split() if  not w in stop_words])\n",
    "    return cleaned_text"
   ]
  },
  {
   "cell_type": "code",
   "execution_count": 20,
   "metadata": {},
   "outputs": [
    {
     "data": {
      "text/plain": [
       "'twenti year event jurass park isla nublar featur fulli function dinosaur theme park jurass world origin envis john hammond'"
      ]
     },
     "execution_count": 20,
     "metadata": {},
     "output_type": "execute_result"
    }
   ],
   "source": [
    "clean_text(movies[\"overview\"][0])"
   ]
  },
  {
   "cell_type": "code",
   "execution_count": 21,
   "metadata": {},
   "outputs": [
    {
     "name": "stdout",
     "output_type": "stream",
     "text": [
      "17.1680006980896\n"
     ]
    }
   ],
   "source": [
    "st = time.time()\n",
    "movies[\"overview\"] = movies[\"overview\"].apply(lambda x :clean_text(x))\n",
    "et = time.time()\n",
    "eslaped = et - st\n",
    "print(eslaped)"
   ]
  },
  {
   "cell_type": "code",
   "execution_count": 22,
   "metadata": {
    "colab": {},
    "colab_type": "code",
    "id": "2xihIWUjF2wt"
   },
   "outputs": [],
   "source": [
    "def freq_words(col, terms = 30):\n",
    "    all_words = ' '.join([text for text in col]).split()\n",
    "\n",
    "    words = nltk.FreqDist(all_words)\n",
    "    words_df = pd.DataFrame({'word':list(words.keys()), 'count':list(words.values())})\n",
    "\n",
    "    # selecting top n most frequent words\n",
    "    d = words_df.nlargest(columns=\"count\", n = terms) \n",
    "    plt.figure(figsize=(12,15))\n",
    "    ax = sns.barplot(data=d, x= \"count\", y = \"word\")\n",
    "    ax.set(ylabel = 'Words')\n",
    "    plt.title(\"Top {} Most Frequent Words in Clean_overview column\".format(terms), fontsize=16)\n",
    "    plt.show()"
   ]
  },
  {
   "cell_type": "code",
   "execution_count": 23,
   "metadata": {
    "colab": {
     "base_uri": "https://localhost:8080/",
     "height": 881
    },
    "colab_type": "code",
    "id": "P2ZSrCVYF2w4",
    "outputId": "9f756479-7993-416b-fd4f-0bc52e730d96"
   },
   "outputs": [
    {
     "data": {
      "image/png": "[encoded data removed]",
      "text/plain": [
       "<Figure size 864x1080 with 1 Axes>"
      ]
     },
     "metadata": {
      "needs_background": "light"
     },
     "output_type": "display_data"
    }
   ],
   "source": [
    "# print 100 most frequent words\n",
    "freq_words(movies[\"overview\"], 100)"
   ]
  },
  {
   "cell_type": "code",
   "execution_count": 24,
   "metadata": {},
   "outputs": [
    {
     "data": {
      "text/plain": [
       "321715"
      ]
     },
     "execution_count": 24,
     "metadata": {},
     "output_type": "execute_result"
    }
   ],
   "source": [
    "# The number of words in overview list\n",
    "len(' '.join([text for text in movies[\"overview\"]]).split())"
   ]
  },
  {
   "cell_type": "markdown",
   "metadata": {
    "colab_type": "text",
    "id": "QuE4iqHTQRRw"
   },
   "source": [
    "### Converting Text to Features"
   ]
  },
  {
   "cell_type": "markdown",
   "metadata": {
    "colab_type": "text",
    "id": "tKyJYhRnRAUF"
   },
   "source": [
    "Treating this multilable classification problem as a Binary Relevance problem. One hot Encoding the target variable by using sklearn's **MultiLabelBinarizer( )**."
   ]
  },
  {
   "cell_type": "code",
   "execution_count": 25,
   "metadata": {
    "colab": {},
    "colab_type": "code",
    "id": "9l3TjWUPF2xV"
   },
   "outputs": [],
   "source": [
    "# Instantiate the Multilabelbinarizer model\n",
    "mlb = MultiLabelBinarizer()\n",
    "mlb.fit(movies[\"genres\"])\n",
    "\n",
    "# transform target variable\n",
    "y = mlb.fit_transform(movies[\"genres\"])"
   ]
  },
  {
   "cell_type": "markdown",
   "metadata": {
    "colab_type": "text",
    "id": "BIb2sjjq4pp9"
   },
   "source": [
    "Extracting features from the cleaned version of the movie overview using **CountVectorizer()** "
   ]
  },
  {
   "cell_type": "code",
   "execution_count": 26,
   "metadata": {},
   "outputs": [],
   "source": [
    "vectorizer = CountVectorizer(min_df=4,ngram_range=(1,2),binary=True)"
   ]
  },
  {
   "cell_type": "markdown",
   "metadata": {},
   "source": [
    "#### - min_df is used for removing terms that appear too infrequently.\n",
    "#### - Using a min_df of 4 means \"ignore terms that appear in less than 4 documents\".\n",
    "#### -  ngram_range=(1,2) means allow words that are unigrams and bigrams\n",
    "#### - for example: Let's look at this sentence: \"Nigeria will be great again.\"\n",
    "#### -  for unigrams, its splits the word into [\"Nigeria\",\"will\",\"be\",\"great\",\"again\"]\n",
    "#### -  for bigrams, [\"Nigeria will\",\"will be\",\"be great\",\"great again\"]"
   ]
  },
  {
   "cell_type": "code",
   "execution_count": 27,
   "metadata": {
    "colab": {},
    "colab_type": "code",
    "id": "QLQpqZBYF2xw"
   },
   "outputs": [],
   "source": [
    "# split dataset into training and validation set\n",
    "xtrain, xtest, ytrain, ytest = train_test_split(movies[\"overview\"], y, test_size=0.1, random_state=42)"
   ]
  },
  {
   "cell_type": "code",
   "execution_count": 28,
   "metadata": {},
   "outputs": [],
   "source": [
    "xtrain_vec = vectorizer.fit_transform(xtrain)\n",
    "xtest_vec = vectorizer.transform(xtest)"
   ]
  },
  {
   "cell_type": "markdown",
   "metadata": {
    "colab_type": "text",
    "id": "Rmdfnd0q9jvl"
   },
   "source": [
    "### Build Movie Genre Prediction Model"
   ]
  },
  {
   "cell_type": "code",
   "execution_count": 29,
   "metadata": {},
   "outputs": [],
   "source": [
    "def build_model(model,mlb_estimator,xtrain,ytrain,xtest,ytest):\n",
    "    clf = mlb_estimator(model)\n",
    "    clf.fit(xtrain,ytrain)\n",
    "    clf_predictions = clf.predict(xtest)\n",
    "    acc = accuracy_score(ytest,clf_predictions)\n",
    "    f1score = f1_score(ytest, clf_predictions, average=\"micro\")\n",
    "    ham = hamming_loss(ytest,clf_predictions)\n",
    "    result = {\"accuracy:\":acc,\"f1_score\":f1score,\"hamming_score\":ham}\n",
    "    return result"
   ]
  },
  {
   "cell_type": "markdown",
   "metadata": {},
   "source": [
    " ### Use sklearn's OneVsRestClassifier class to solve this problem as a Binary Relevance or one-vs-all problem."
   ]
  },
  {
   "cell_type": "code",
   "execution_count": 30,
   "metadata": {},
   "outputs": [
    {
     "data": {
      "text/plain": [
       "{'accuracy:': 0.1392988929889299,\n",
       " 'f1_score': 0.526541095890411,\n",
       " 'hamming_score': 0.10202952029520296}"
      ]
     },
     "execution_count": 30,
     "metadata": {},
     "output_type": "execute_result"
    }
   ],
   "source": [
    "build_model(LogisticRegression(random_state=0),OneVsRestClassifier,xtrain_vec,ytrain,xtest_vec,ytest)"
   ]
  },
  {
   "cell_type": "code",
   "execution_count": 31,
   "metadata": {},
   "outputs": [
    {
     "data": {
      "text/plain": [
       "{'accuracy:': 0.06365313653136531,\n",
       " 'f1_score': 0.4282096240015585,\n",
       " 'hamming_score': 0.13537822878228783}"
      ]
     },
     "execution_count": 31,
     "metadata": {},
     "output_type": "execute_result"
    }
   ],
   "source": [
    "build_model(DecisionTreeClassifier(random_state=0),OneVsRestClassifier,xtrain_vec,ytrain,xtest_vec,ytest)"
   ]
  },
  {
   "cell_type": "markdown",
   "metadata": {
    "colab_type": "text",
    "id": "1MXsU1Mu_Zfz"
   },
   "source": [
    " ### The logistic Regression model gave a higher f1_score than the DecisionTree classifier."
   ]
  },
  {
   "cell_type": "code",
   "execution_count": 32,
   "metadata": {},
   "outputs": [],
   "source": [
    "lr = LogisticRegression(random_state=0)\n",
    "clf_lr = OneVsRestClassifier(lr)"
   ]
  },
  {
   "cell_type": "code",
   "execution_count": 33,
   "metadata": {},
   "outputs": [
    {
     "data": {
      "text/plain": [
       "OneVsRestClassifier(estimator=LogisticRegression(random_state=0))"
      ]
     },
     "execution_count": 33,
     "metadata": {},
     "output_type": "execute_result"
    }
   ],
   "source": [
    "clf_lr.fit(xtrain_vec, ytrain)"
   ]
  },
  {
   "cell_type": "code",
   "execution_count": 34,
   "metadata": {
    "colab": {},
    "colab_type": "code",
    "id": "JDgWCi2hF2yF"
   },
   "outputs": [],
   "source": [
    "# make predictions for test set\n",
    "y_pred = clf_lr.predict(xtest_vec)"
   ]
  },
  {
   "cell_type": "markdown",
   "metadata": {
    "colab_type": "text",
    "id": "XSxiV_E8BzSx"
   },
   "source": [
    "Let's check out a prediction..."
   ]
  },
  {
   "cell_type": "code",
   "execution_count": 35,
   "metadata": {
    "colab": {
     "base_uri": "https://localhost:8080/",
     "height": 312
    },
    "colab_type": "code",
    "id": "Sj9l1s9yB4kR",
    "outputId": "74138cd0-9f22-49c7-8d2a-d1829bf0a3e9"
   },
   "outputs": [
    {
     "data": {
      "text/plain": [
       "array([1, 1, 0, 0, 0, 0, 0, 0, 0, 0, 0, 1, 0, 0, 0, 0, 0, 1, 0, 0])"
      ]
     },
     "execution_count": 35,
     "metadata": {},
     "output_type": "execute_result"
    }
   ],
   "source": [
    "y_pred[0]"
   ]
  },
  {
   "cell_type": "markdown",
   "metadata": {
    "colab_type": "text",
    "id": "hRjJt8z3CV5A"
   },
   "source": [
    "Use **inverse_transform( )** function along with the MultiLabelBinarizer( ) object to convert the predicted arrays into movie genre tags."
   ]
  },
  {
   "cell_type": "code",
   "execution_count": 36,
   "metadata": {
    "colab": {
     "base_uri": "https://localhost:8080/",
     "height": 34
    },
    "colab_type": "code",
    "id": "ivmaB8yJF2yI",
    "outputId": "18498cf1-79f7-4b5c-dd7a-889b8ca2b711"
   },
   "outputs": [
    {
     "data": {
      "text/plain": [
       "('Action', 'Adventure', 'Horror', 'Thriller')"
      ]
     },
     "execution_count": 36,
     "metadata": {},
     "output_type": "execute_result"
    }
   ],
   "source": [
    "mlb.inverse_transform(y_pred)[0]"
   ]
  },
  {
   "cell_type": "markdown",
   "metadata": {
    "colab_type": "text",
    "id": "hpURW_KLKSA2"
   },
   "source": [
    "### Predict Movie Genres on new movie plots\n",
    "let's build a function that will take in a movie plot text in it raws format and follow the steps below :\n",
    "\n",
    "*   Clean the text\n",
    "*   Remove stopwords from the cleaned text\n",
    "*   Extract features from the text\n",
    "*   Make predictions\n",
    "*   Return the predicted movie genre tags\n",
    "\n",
    "\n"
   ]
  },
  {
   "cell_type": "code",
   "execution_count": 37,
   "metadata": {
    "colab": {},
    "colab_type": "code",
    "id": "aU_nuhCHF2yQ"
   },
   "outputs": [],
   "source": [
    "def predict_genre(q):\n",
    "    q = text_process(q)\n",
    "    q_vec = vectorizer.transform([q])\n",
    "    q_pred = clf_lr.predict(q_vec)\n",
    "    result = mlb.inverse_transform(q_pred)\n",
    "    if len(result[0]) == 0:\n",
    "        return \"Sorry! Unable to Predict a Genre\"\n",
    "    else:\n",
    "        return result"
   ]
  },
  {
   "cell_type": "code",
   "execution_count": 38,
   "metadata": {
    "colab": {
     "base_uri": "https://localhost:8080/",
     "height": 364
    },
    "colab_type": "code",
    "id": "eMIcpA6BOjVh",
    "outputId": "b28a75cc-2691-459c-be91-1d80bdabc9ac"
   },
   "outputs": [
    {
     "name": "stdout",
     "output_type": "stream",
     "text": [
      "Movie:  God Help the Girl \n",
      "Predicted genre:  [('Action', 'Drama', 'Fantasy', 'Romance')]\n",
      "Actual genre:  ['Comedy', 'Drama', 'Music'] \n",
      "\n",
      "Movie:  The Fly II \n",
      "Predicted genre:  [('Drama', 'Family', 'Science Fiction')]\n",
      "Actual genre:  ['Horror', 'Science Fiction', 'Thriller'] \n",
      "\n",
      "Movie:  TerrorVision \n",
      "Predicted genre:  [('Drama', 'Science Fiction')]\n",
      "Actual genre:  ['Horror', 'Science Fiction', 'Thriller'] \n",
      "\n",
      "Movie:  Generation Kill \n",
      "Predicted genre:  [('Drama',)]\n",
      "Actual genre:  ['Drama', 'War', 'History'] \n",
      "\n",
      "Movie:  George of the Jungle \n",
      "Predicted genre:  [('Drama',)]\n",
      "Actual genre:  ['Adventure', 'Comedy', 'Family', 'Romance'] \n",
      "\n"
     ]
    }
   ],
   "source": [
    "for i in range(5):\n",
    "    k = xtest.sample(1).index[0]\n",
    "    print(\"Movie: \", movies[\"original_title\"][k], \"\\nPredicted genre: \", predict_genre(xtest[k])), print(\"Actual genre: \",movies[\"genres\"][k], \"\\n\")   "
   ]
  },
  {
   "cell_type": "code",
   "execution_count": 39,
   "metadata": {},
   "outputs": [],
   "source": [
    "text = \"\"\"\n",
    "Henry Biggs is the pastor of a struggling Baptist church in a poor section of New York City. His marriage to a choir singer is also failing. He gets help from an angel which enters his life.\"\"\""
   ]
  },
  {
   "cell_type": "code",
   "execution_count": 40,
   "metadata": {},
   "outputs": [
    {
     "data": {
      "text/plain": [
       "[('Drama', 'Romance')]"
      ]
     },
     "execution_count": 40,
     "metadata": {},
     "output_type": "execute_result"
    }
   ],
   "source": [
    "predict_genre(text)"
   ]
  },
  {
   "cell_type": "code",
   "execution_count": 41,
   "metadata": {},
   "outputs": [
    {
     "data": {
      "text/plain": [
       "'Sorry! Unable to Predict a Genre'"
      ]
     },
     "execution_count": 41,
     "metadata": {},
     "output_type": "execute_result"
    }
   ],
   "source": [
    "predict_genre(\"transferred to Washington,\")"
   ]
  },
  {
   "cell_type": "code",
   "execution_count": 48,
   "metadata": {},
   "outputs": [],
   "source": [
    "text = \"\"\"\n",
    "Princess Victoria of Kent is the heir presumptive to the British throne during the reign of her uncle King William IV and is subject to a political tug of war for influence over her. On one side is her mother, the Duchess of Kent, and the comptroller of the Duchess's household, Sir John Conroy, who tries to force Victoria to sign papers declaring a regency and giving him and her mother power if she assumes the throne while still a minor. On the other side is her uncle, King Leopold I of Belgium, who uses family ties to secure an alliance between the United Kingdom and Belgium. He wants his nephew Prince Albert of Saxe-Coburg-Gotha, who is Victoria's cousin, to marry her. Albert is then coached in Victoria's likes and dislikes. The Duchess invites the Coburg brothers, Albert and Prince Ernest of Saxe-Coburg-Gotha, to visit. Victoria and Albert develop a mutual fondness, despite Victoria knowing that their uncle sent Albert to romance her. They begin writing to one another after Albert returns home.\n",
    "\n",
    "At a birthday reception in Windsor Castle, the King states his wish to be closer to Victoria and insults her mother. When the King increases Victoria's income, it is rejected by Conroy, who physically subdues her in front of her mother, heightening their animosity. The King then sends the Prime Minister Lord Melbourne to advise her. Victoria agrees to make Melbourne her private secretary, and he appoints her ladies-in-waiting, who are from families politically allied to him.\n",
    "\n",
    "King William dies shortly after Victoria's 18th birthday, avoiding a regency. After accession, Victoria immediately exerts her independence, including physically distancing herself from her mother and banishing Conroy from her household and coronation. During her first meeting with the Privy Council, Victoira announces she intends to devote herself to serving her country and its people. Victoria moves into the newly-built Buckingham Palace. Her aunt, Queen Adelaide, advises her against acquiescing too much to Lord Melbourne's direction. Albert visits again, and he and Victoria further bond while discussing their mutual interest in societal issues. Victoria resists a more intimate relationship, however, and Albert leaves.\n",
    "\n",
    "When Sir Robert Peel becomes the Prime Minister-designate, he wishes to replace some of Victoria's ladies-in-waiting with supporters of his own party. When the queen refuses, Peel rejects the queen's invitation to form a new government, allowing Melbourne to continue as Prime Minister. The subsequent crisis damages Victoria's popularity, leading to demonstrations outside the palace. The turbulence draws Victoria closer to Albert through their letters, and she invites him back to Britain. Protocol prevents him from proposing marriage, so she asks him.\n",
    "\n",
    "Their short honeymoon is loving, but Albert soon grows frustrated at his initial powerlessness. Queen Adelaide advises Victoria to allow him to assume more duties. Albert then reorganises the royal household and dismisses Conroy for mishandling the Duchess of Kent's funds. As Victoria's primary adviser, Albert blocks Lord Melbourne and King Leopold from influencing his wife. However, he and Victoria fiercely quarrel after Albert goes over her head with Peel to replace some of her ladies-in-waiting.\n",
    "\n",
    "When an anarchist attempts to shoot Victoria during an open-carriage ride, Albert is wounded when he shields her. His bravery leads to their reconciliation, and Melbourne urges her to share her work for social welfare with Albert. Their first child's birth helps reconcile Victoria and her mother, who had earlier sent a letter of support during the crisis.\n",
    "\n",
    "The final title card sketches in their successful future until Albert's death at age 42.\"\"\"\n"
   ]
  },
  {
   "cell_type": "code",
   "execution_count": 49,
   "metadata": {},
   "outputs": [
    {
     "data": {
      "text/plain": [
       "[('Drama', 'History', 'Romance')]"
      ]
     },
     "execution_count": 49,
     "metadata": {},
     "output_type": "execute_result"
    }
   ],
   "source": [
    "predict_genre(text)"
   ]
  },
  {
   "cell_type": "code",
   "execution_count": 50,
   "metadata": {},
   "outputs": [],
   "source": [
    "text = \"\"\"\n",
    "In 2003, senior CIA official Donald Fitzroy visits a prisoner. Eight years earlier the prisoner was a minor convicted of killing his abusive father to protect his brother. Fitzroy offers the man his freedom in exchange for working as an assassin in the CIA's Sierra program.\n",
    "\n",
    "In 2021, on a mission in Bangkok, the murderer, \"Sierra Six,\" is working with fellow CIA agent Dani Miranda to assassinate a target suspected of selling off national security secrets. He is unable to do so stealthily without harming civilians and attacks the target directly, mortally wounding him. Before dying, the target reveals that he worked in the Sierra program as Sierra Four, and hands Six an encrypted drive detailing the corruption of CIA official Denny Carmichael, who is the lead agent on the assassination mission. Carmichael is elusive about the true purpose of the mission and the contents of the drive when confronted by Six, and Six refuses evacuation from Bangkok with Carmichael's men, calling a now-retired Fitzroy to request extraction.\n",
    "\n",
    "Carmichael hires mercenary Lloyd Hansen, a former CIA agent kicked out of the agency for his sociopathic tendencies, to track down Six and retrieve the drive. Hansen does so by kidnapping Fitzroy's niece Claire, forcing Fitzroy to authorize Six's murder by the extraction team. However, Six kills them and escapes.\n",
    "\n",
    "Frustrated, Carmichael sends his subordinate Suzanne Brewer to oversee Hansen and keep him in line. Hansen keeps Claire hostage in a mansion in Croatia, where he has based his operations. Hansen also puts a bounty on Six's head to attract mercenaries and assassins to hunt him down. Six heads to Vienna to find Claire's pacemaker's serial number from Laszlo Sosa, but Sosa betrays him for the bounty. Six escapes just as Hansen arrives with his team, and is rescued by Miranda. Miranda's reputation is in tatters following the Bangkok mission and she initially plans to bring him in to salvage her career at the CIA. Six convinces her to drive him to Cahill's apartment in Prague, where she decrypts the drive, which reveals the extent of Carmichael's corruption on behalf of a mysterious benefactor working for a shadow government.\n",
    "\n",
    "Hansen sends several teams of assassins to Cahill's home, and the terminally ill Cahill blows up her home to give Six and Miranda a chance to escape. Six is arrested and handcuffed in the square. A shootout in the streets of Prague follows and Six escapes on a tram. A long chase and gun battle ensues, and Six is saved by Miranda, in Cahill's bulletproof car. The two infiltrate a hospital to track down Claire through the wireless signal broadcast from her pacemaker. The mercenary \"Lone Wolf\" steals the drive from them, knocking them out, and brings the drive to Hansen.\n",
    "\n",
    "Six and Miranda follow the pacemaker to Hansen's base. Miranda creates a distraction while Six infiltrates the mansion and rescues Fitzroy and Claire. Fitzroy is mortally wounded as they flee and sacrifices himself in a failed attempt to kill Hansen. Miranda knocks out Hansen's men, but Lone Wolf narrowly escapes. He defeats Miranda in a fight but gives her the drive, having become disgusted with Hansen's willingness to kill children and his lack of morals.\n",
    "\n",
    "Hansen manages to take Claire hostage and drags her into a hedge maze. After a standoff, Hansen lets go of Claire and fights with Six. Before Six can kill him, Hansen is shot and killed by Brewer, who tells Six that she plans to pin Carmichael's actions on Hansen in order to gain leverage over him. Furthermore, Brewer pledges Claire's safety but only if Six continues to work for the CIA. Six and Miranda are forced to co-operate in the cover-up, where ultimately no action is taken against Carmichael. After the debriefing at the CIA headquarters, Miranda threatens to kill Carmichael if any harm comes to Claire. Six escapes custody and frees Claire, who is being held at a secret location.\n",
    "\"\"\""
   ]
  },
  {
   "cell_type": "code",
   "execution_count": 52,
   "metadata": {},
   "outputs": [
    {
     "data": {
      "text/plain": [
       "[('Action', 'Crime', 'Drama', 'Thriller')]"
      ]
     },
     "execution_count": 52,
     "metadata": {},
     "output_type": "execute_result"
    }
   ],
   "source": [
    "predict_genre(text)"
   ]
  },
  {
   "cell_type": "markdown",
   "metadata": {},
   "source": [
    "# The model takes in a movie plot and predicts the genre. The more detailed the movie plot is, the more accurate the predicted genres are to the actual genres."
   ]
  },
  {
   "cell_type": "code",
   "execution_count": 48,
   "metadata": {},
   "outputs": [],
   "source": [
    "import pickle\n",
    "with open('model.pkl','wb') as f:\n",
    "    pickle.dump(clf_lr, f)"
   ]
  },
  {
   "cell_type": "code",
   "execution_count": 49,
   "metadata": {},
   "outputs": [
    {
     "data": {
      "text/plain": [
       "OneVsRestClassifier(estimator=LogisticRegression(random_state=0))"
      ]
     },
     "execution_count": 49,
     "metadata": {},
     "output_type": "execute_result"
    }
   ],
   "source": [
    "pickle_in = open('model.pkl', 'rb')\n",
    "model = pickle.load(pickle_in)\n",
    "model"
   ]
  },
  {
   "cell_type": "markdown",
   "metadata": {},
   "source": [
    "## Adebo Dolapo\n",
    "### 5/8/2022"
   ]
  },
  {
   "cell_type": "code",
   "execution_count": null,
   "metadata": {},
   "outputs": [],
   "source": []
  }
 ],
 "metadata": {
  "kernelspec": {
   "display_name": "Python 3.7.4 ('base')",
   "language": "python",
   "name": "python3"
  },
  "language_info": {
   "codemirror_mode": {
    "name": "ipython",
    "version": 3
   },
   "file_extension": ".py",
   "mimetype": "text/x-python",
   "name": "python",
   "nbconvert_exporter": "python",
   "pygments_lexer": "ipython3",
   "version": "3.7.4"
  },
  "vscode": {
   "interpreter": {
    "hash": "ad2bdc8ecc057115af97d19610ffacc2b4e99fae6737bb82f5d7fb13d2f2c186"
   }
  }
 },
 "nbformat": 4,
 "nbformat_minor": 4
}
